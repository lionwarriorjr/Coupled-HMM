{
 "cells": [
  {
   "cell_type": "code",
   "execution_count": 15,
   "metadata": {
    "collapsed": true
   },
   "outputs": [],
   "source": [
    "import numpy as np\n",
    "import pandas as pd\n",
    "import scipy\n",
    "import scipy.stats\n",
    "import math\n",
    "import random\n",
    "import matplotlib.pyplot as plt\n",
    "import pickle"
   ]
  },
  {
   "cell_type": "markdown",
   "metadata": {},
   "source": [
    "## Data Generation Functions"
   ]
  },
  {
   "cell_type": "code",
   "execution_count": 16,
   "metadata": {
    "collapsed": true
   },
   "outputs": [],
   "source": [
    "class Context:\n",
    "    def __init__(self, ndim, u):\n",
    "        self.ndim = ndim\n",
    "        self.u = u\n",
    "        self.contextWeights = np.ones(ndim)\n",
    "        self.noise = np.zeros(ndim)\n",
    "    def set_contextWeights(self, weights):\n",
    "        self.contextWeights = weights\n",
    "    def set_noise(self, noise):\n",
    "        self.noise = np.array(list(map(abs, noise)))\n",
    "    def degrade_u(self):\n",
    "        self.u = np.multiply(self.contextWeights, self.u)\n",
    "        for i in range(self.ndim):\n",
    "            self.u[i] = np.random.normal(self.u[i], self.noise[i], 1)\n",
    "        self.u = self.u.clip(min=0)"
   ]
  },
  {
   "cell_type": "code",
   "execution_count": 17,
   "metadata": {
    "collapsed": true
   },
   "outputs": [],
   "source": [
    "def transition(a, u, y_prev):\n",
    "    y_t = np.max([0, np.random.normal(np.dot(u,a)+y_prev, SIGMA, 1)])\n",
    "    return y_t\n",
    "\n",
    "# exponential decay on likelihood of intervention\n",
    "def indicate_administration(y_t, tdiff):\n",
    "    decay = (np.e ** (-DECAY * tdiff))\n",
    "    p = (1-decay) * scipy.stats.norm(Y_MEAN, Y_SIGMA).cdf(y_t)\n",
    "    flag = random.random() < p\n",
    "    return flag\n",
    "\n",
    "def administer(a, context):\n",
    "    u_t = np.zeros(context.ndim)\n",
    "    for i in range(context.ndim):\n",
    "        u_t[i] = np.random.normal(initial_u[i], context.noise[i], 1)\n",
    "    u_t = u_t.clip(min=0)\n",
    "    y_t = np.max([0, np.random.normal(Y_MEAN, ADMINVAR, 1)])\n",
    "    return y_t, u_t"
   ]
  },
  {
   "cell_type": "code",
   "execution_count": 18,
   "metadata": {
    "collapsed": false
   },
   "outputs": [],
   "source": [
    "def run_simulation(time_length, a, y0, context):\n",
    "    U = np.zeros((time_length, context.ndim))\n",
    "    y = np.zeros(time_length)\n",
    "    U[0,:], y[0] = context.u, y0\n",
    "    adminstered = []\n",
    "    tlast = 0\n",
    "    for t in range(1, time_length):\n",
    "        context.degrade_u()\n",
    "        y_t = transition(a, context.u, y[t-1])\n",
    "        if indicate_administration(y_t, t-tlast):\n",
    "            y_t, context.u = administer(a, context)\n",
    "            adminstered.append(t)\n",
    "            tlast = t\n",
    "        U[t,:] = context.u\n",
    "        y[t] = y_t\n",
    "    return U, y, adminstered"
   ]
  },
  {
   "cell_type": "markdown",
   "metadata": {},
   "source": [
    "#### Visualize INR trajectories and concurrent interventions"
   ]
  },
  {
   "cell_type": "code",
   "execution_count": 19,
   "metadata": {
    "collapsed": true
   },
   "outputs": [],
   "source": [
    "def plot_trajectory(y, administered):\n",
    "    times = list(range(len(y)))\n",
    "    plt.plot(times, y, 'ro')\n",
    "    plt.xlabel('time (hr)')\n",
    "    plt.ylabel('INR')\n",
    "    plt.title('observed INR trajectory and interventions')\n",
    "    for t in administered:\n",
    "        plt.axvline(x=t, color='g', linestyle='--')\n",
    "    plt.show()"
   ]
  },
  {
   "cell_type": "markdown",
   "metadata": {},
   "source": [
    "#### Load trajectories for multiple patients"
   ]
  },
  {
   "cell_type": "code",
   "execution_count": 20,
   "metadata": {
    "collapsed": true
   },
   "outputs": [],
   "source": [
    "def load_trajectories(num_ts, time_length, a, y0, context):\n",
    "    X = np.zeros((num_ts,time_length,context.ndim))\n",
    "    Y = np.zeros((num_ts,time_length,1))\n",
    "    for i in range(num_ts):\n",
    "        U, y, administered = run_simulation(time_length, a, y0, context)\n",
    "        y = y.reshape(len(y),1)\n",
    "        X[i,:,:] = U\n",
    "        Y[i,:,:] = y\n",
    "    plot_trajectory(y, administered)\n",
    "    return X, Y"
   ]
  },
  {
   "cell_type": "markdown",
   "metadata": {},
   "source": [
    "#### Convert simulated dataset to format in clinicalml/structuredinf (for integration with DMM learning)"
   ]
  },
  {
   "cell_type": "code",
   "execution_count": 21,
   "metadata": {
    "collapsed": true
   },
   "outputs": [],
   "source": [
    "def write_to_file(file, x):\n",
    "    file = open(file,'wb')\n",
    "    pickle.dump(x,file)\n",
    "    file.close()"
   ]
  },
  {
   "cell_type": "code",
   "execution_count": 24,
   "metadata": {
    "collapsed": false
   },
   "outputs": [],
   "source": [
    "def loadDataset():\n",
    "    # Context initialization\n",
    "    global Y_MEAN\n",
    "    global Y_SIGMA\n",
    "    global SIGMA\n",
    "    global ADMINVAR\n",
    "    global DECAY\n",
    "    global NDIM\n",
    "    global initial_u\n",
    "    Y_MEAN, Y_SIGMA = 1.5, 0.5\n",
    "    SIGMA = 0.02\n",
    "    ADMINVAR = 1.0\n",
    "    DECAY = 0.033\n",
    "    NDIM = 6\n",
    "    # clotting factors concentrate: Factor VIII\n",
    "    # anticoagulant: warfarin\n",
    "    # vitamin K amounts in mcg\n",
    "    # indicator on particular chronic condition\n",
    "    # platelet transfusion in ml/kg\n",
    "    initial_u = np.array([20, 10, 42, 120, 2, 10])\n",
    "    context = Context(NDIM, initial_u)\n",
    "    contextWeights = np.array([0.865, 0.96, 1, 0.93, 1, 0.94])\n",
    "    noise = np.array([0.4, 0.02, 0, 3, 0, 0.05])\n",
    "    context.set_contextWeights(contextWeights)\n",
    "    context.set_noise(noise)\n",
    "    a = np.array([0.04,0.02,0.02,-0.01,0.06,-0.06])\n",
    "    \n",
    "    dataset = {}\n",
    "    X, Y = load_trajectories(50, 80, a, 1.5, context)\n",
    "    write_to_file('X.pkl',X)\n",
    "    write_to_file('Y.pkl',Y)\n",
    "    print(X.shape)\n",
    "    print(Y.shape)\n",
    "    Ntrain = int(0.6*Y.shape[0])\n",
    "    Nvalid = np.max((0,int(0.8*Y.shape[0]-Ntrain)))\n",
    "    Ntest = np.max((0,int(Y.shape[0]-Nvalid)))\n",
    "    T , dim_observations  = Y.shape[1],Y.shape[2]\n",
    "    dataset['train']      = Y[0:Ntrain,:,:]\n",
    "    dataset['mask_train'] = np.ones((Ntrain,T))\n",
    "    dataset['valid']      = Y[Ntrain:Nvalid,:,:]\n",
    "    dataset['mask_valid'] = np.ones((Nvalid,T))\n",
    "    dataset['test']       = Y[Nvalid:Ntest,:,:]\n",
    "    dataset['mask_test']  = np.ones((Ntest,T))\n",
    "    dataset['dim_observations'] = dim_observations \n",
    "    dataset['data_type'] = 'real'\n",
    "    return dataset"
   ]
  },
  {
   "cell_type": "code",
   "execution_count": 25,
   "metadata": {
    "collapsed": false
   },
   "outputs": [
    {
     "data": {
      "image/png": "[encoded data removed]",
      "text/plain": [
       "<matplotlib.figure.Figure at 0x10b2f4390>"
      ]
     },
     "metadata": {},
     "output_type": "display_data"
    },
    {
     "name": "stdout",
     "output_type": "stream",
     "text": [
      "(50, 80, 6)\n",
      "(50, 80, 1)\n"
     ]
    }
   ],
   "source": [
    "dataset = loadDataset()"
   ]
  }
 ],
 "metadata": {
  "kernelspec": {
   "display_name": "Python 3",
   "language": "python",
   "name": "python3"
  },
  "language_info": {
   "codemirror_mode": {
    "name": "ipython",
    "version": 3
   },
   "file_extension": ".py",
   "mimetype": "text/x-python",
   "name": "python",
   "nbconvert_exporter": "python",
   "pygments_lexer": "ipython3",
   "version": "3.5.2"
  }
 },
 "nbformat": 4,
 "nbformat_minor": 2
}
